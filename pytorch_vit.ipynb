{
  "nbformat": 4,
  "nbformat_minor": 0,
  "metadata": {
    "colab": {
      "provenance": [],
      "authorship_tag": "ABX9TyOtxJg0vqMSyTn9DfDDwY0J",
      "include_colab_link": true
    },
    "kernelspec": {
      "name": "python3",
      "display_name": "Python 3"
    },
    "language_info": {
      "name": "python"
    }
  },
  "cells": [
    {
      "cell_type": "markdown",
      "metadata": {
        "id": "view-in-github",
        "colab_type": "text"
      },
      "source": [
        "<a href=\"https://colab.research.google.com/github/kitarikes/My_Code-Stash/blob/main/pytorch_vit.ipynb\" target=\"_parent\"><img src=\"https://colab.research.google.com/assets/colab-badge.svg\" alt=\"Open In Colab\"/></a>"
      ]
    },
    {
      "cell_type": "markdown",
      "source": [
        "## nnクラスの使い方"
      ],
      "metadata": {
        "id": "PJfkJnK1xj5_"
      }
    },
    {
      "cell_type": "code",
      "execution_count": 12,
      "metadata": {
        "id": "kq-_YpycuM4k"
      },
      "outputs": [],
      "source": [
        "import torch\n",
        "import torch.nn as nn"
      ]
    },
    {
      "cell_type": "code",
      "source": [
        "class SimpleMlp(nn.Module):\n",
        "  def __init__(self,\n",
        "               vec_length: int=16,\n",
        "               hidden_unit_1: int=8,\n",
        "               hidden_unit_2: int=2):\n",
        "    super(SimpleMlp, self).__init__()\n",
        "    \n",
        "    self.layer1 = nn.Linear(vec_length, hidden_unit_1)\n",
        "    self.relu = nn.ReLU()\n",
        "    self.layer2 = nn.Linear(hidden_unit_1, hidden_unit_2)\n",
        "\n",
        "  def forward(self, x: torch.Tensor) -> torch.Tensor:\n",
        "    out = self.layer1(x)\n",
        "    out = self.relu(out)\n",
        "    out = self.layer2(out)\n",
        "    return out\n",
        "\n"
      ],
      "metadata": {
        "id": "Ey8CX2LMukiQ"
      },
      "execution_count": 13,
      "outputs": []
    },
    {
      "cell_type": "code",
      "source": [
        "vec = 16\n",
        "u1 = 8\n",
        "u2 = 2\n",
        "\n",
        "bs = 4\n",
        "\n",
        "x = torch.randn(bs, vec) #4*16"
      ],
      "metadata": {
        "id": "W1FjdP88weNT"
      },
      "execution_count": 14,
      "outputs": []
    },
    {
      "cell_type": "code",
      "source": [
        "x"
      ],
      "metadata": {
        "id": "C1UBGXR8wojU",
        "outputId": "2628456f-a657-48fe-a156-abf19070d601",
        "colab": {
          "base_uri": "https://localhost:8080/"
        }
      },
      "execution_count": 15,
      "outputs": [
        {
          "output_type": "execute_result",
          "data": {
            "text/plain": [
              "tensor([[ 0.3746, -0.1186, -0.6644,  1.3141,  0.9132, -1.1878,  1.6640, -0.1863,\n",
              "          0.3771, -1.6824, -1.5628,  2.1966,  0.5875,  1.0941, -0.7441,  0.3099],\n",
              "        [-0.1341,  1.1648, -2.1928,  0.0956, -1.6314,  1.0171,  1.1439,  1.7270,\n",
              "          0.1249,  0.0099,  2.3485,  1.0850, -0.1790,  0.7199, -0.1207, -1.2596],\n",
              "        [-0.6914, -0.4908, -0.3249,  1.2259, -0.7949, -0.7054, -0.2885, -0.1751,\n",
              "         -0.7230,  0.0449, -0.9435, -1.2039,  0.9711, -0.2866, -0.5640,  0.9567],\n",
              "        [ 0.2251,  0.7835, -1.3173, -0.3298,  1.1171, -0.8692, -0.0309,  0.7430,\n",
              "          0.6761, -1.3692,  0.0438,  0.0908, -1.2498,  0.2994, -1.2262,  1.3873]])"
            ]
          },
          "metadata": {},
          "execution_count": 15
        }
      ]
    },
    {
      "cell_type": "code",
      "source": [
        "net = SimpleMlp(vec, u1, u2)"
      ],
      "metadata": {
        "id": "IuSiQ20qw3T4"
      },
      "execution_count": 16,
      "outputs": []
    },
    {
      "cell_type": "code",
      "source": [
        "net"
      ],
      "metadata": {
        "id": "fbF58u33xDGP",
        "outputId": "b858d5a7-6b5c-405c-80e9-1e1a47eae4c0",
        "colab": {
          "base_uri": "https://localhost:8080/"
        }
      },
      "execution_count": 17,
      "outputs": [
        {
          "output_type": "execute_result",
          "data": {
            "text/plain": [
              "SimpleMlp(\n",
              "  (layer1): Linear(in_features=16, out_features=8, bias=True)\n",
              "  (relu): ReLU()\n",
              "  (layer2): Linear(in_features=8, out_features=2, bias=True)\n",
              ")"
            ]
          },
          "metadata": {},
          "execution_count": 17
        }
      ]
    },
    {
      "cell_type": "code",
      "source": [
        "net(x)"
      ],
      "metadata": {
        "id": "OZ0MPPRMxDpF",
        "outputId": "e5b08ce1-4edd-4d53-e54b-d1751cc1ad64",
        "colab": {
          "base_uri": "https://localhost:8080/"
        }
      },
      "execution_count": 18,
      "outputs": [
        {
          "output_type": "execute_result",
          "data": {
            "text/plain": [
              "tensor([[-0.5787,  0.0045],\n",
              "        [-0.1534, -0.1363],\n",
              "        [ 0.0633,  0.1394],\n",
              "        [ 0.1570,  0.3908]], grad_fn=<AddmmBackward0>)"
            ]
          },
          "metadata": {},
          "execution_count": 18
        }
      ]
    },
    {
      "cell_type": "code",
      "source": [],
      "metadata": {
        "id": "4omXaeahxS3V"
      },
      "execution_count": 18,
      "outputs": []
    },
    {
      "cell_type": "markdown",
      "source": [
        "## Input Layer"
      ],
      "metadata": {
        "id": "tGtCp0_ZxqoP"
      }
    },
    {
      "cell_type": "code",
      "source": [],
      "metadata": {
        "id": "Uq0LWnLUxuQe"
      },
      "execution_count": 18,
      "outputs": []
    }
  ]
}