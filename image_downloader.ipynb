{
  "nbformat": 4,
  "nbformat_minor": 0,
  "metadata": {
    "colab": {
      "name": "image-downloader",
      "provenance": []
    },
    "kernelspec": {
      "name": "python3",
      "display_name": "Python 3"
    }
  },
  "cells": [
    {
      "cell_type": "code",
      "metadata": {
        "id": "ABFjY07lYM80"
      },
      "source": [
        "!git clone https://github.com/Joeclinton1/google-images-download.git gid-joeclinton"
      ],
      "execution_count": null,
      "outputs": []
    },
    {
      "cell_type": "code",
      "metadata": {
        "id": "Y-q3pSekYPl4"
      },
      "source": [
        "!/content/gid-joeclinton/google_images_download/google_images_download.py --keywords \"toyota_prius\" -f \"jpg\""
      ],
      "execution_count": null,
      "outputs": []
    }
  ]
}